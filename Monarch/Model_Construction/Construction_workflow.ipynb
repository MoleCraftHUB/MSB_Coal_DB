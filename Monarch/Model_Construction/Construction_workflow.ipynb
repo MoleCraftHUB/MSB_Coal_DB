{
 "cells": [
  {
   "cell_type": "code",
   "execution_count": 1,
   "metadata": {},
   "outputs": [],
   "source": [
    "import os, sys, glob, subprocess, math, random\n",
    "import numpy as np\n",
    "import pandas as pd\n",
    "from molecularsolidbuilder.workflow import Stochastic_model_build\n",
    "\n",
    "#Define TEM-lattice data with file names\n",
    "Monarch = {'pop_pdb/pop1_o.pdb':310, # > 3 Ang\n",
    "           'pop_pdb/pop2_o.pdb':430, # 3 ~ 4.5 Ang\n",
    "           'pop_pdb/pop3_o.pdb':90,  # 4.5 ~ 6.0 Ang\n",
    "           'pop_pdb/pop4_o.pdb':80,  # 6.0 ~ 7.5 Ang\n",
    "           'pop_pdb/pop5_o.pdb':70,  # 7.5 ~ 11.5 Ang\n",
    "           'pop_pdb/pop6_o.pdb':20,  # 11.5 ~ 14.5 Ang\n",
    "           }\n",
    "\n",
    "#Load experimental 13C-NMR and Elemental composition data\n",
    "system_name = 'Monarch'\n",
    "target_cnmr = pd.read_csv('../../Exp_data/Coal_NMR.csv',index_col=0)[system_name]\n",
    "target_elements = pd.read_csv('../../Exp_data/Coal_Element.csv',index_col=0)[system_name]"
   ]
  },
  {
   "cell_type": "code",
   "execution_count": 4,
   "metadata": {},
   "outputs": [
    {
     "name": "stdout",
     "output_type": "stream",
     "text": [
      "1 unique molecules in pop_pdb/pop1_o.pdb to 310 molecules\n"
     ]
    },
    {
     "ename": "KeyboardInterrupt",
     "evalue": "",
     "output_type": "error",
     "traceback": [
      "\u001b[0;31m---------------------------------------------------------------------------\u001b[0m",
      "\u001b[0;31mKeyboardInterrupt\u001b[0m                         Traceback (most recent call last)",
      "\u001b[0;32m/var/folders/sr/qgxr0rcd00sb0rf3l0202mws72xzq0/T/ipykernel_84803/3555117867.py\u001b[0m in \u001b[0;36m<module>\u001b[0;34m\u001b[0m\n\u001b[0;32m----> 1\u001b[0;31m Stochastic_model_build.Expand_PAH_numbers(target_numbers=Monarch,\n\u001b[0m\u001b[1;32m      2\u001b[0m                                           save_pdb_file='Stage1_step0_PAH_collect.pdb')\n",
      "\u001b[0;32m~/Dropbox/Research-ORNL/MolecularSolidBuilder_Org/MolecularSolidBuilder/molecularsolidbuilder/workflow/Stochastic_model_build.py\u001b[0m in \u001b[0;36mExpand_PAH_numbers\u001b[0;34m(target_numbers, save_pdb_file, save_dir)\u001b[0m\n\u001b[1;32m     23\u001b[0m             \u001b[0mpop_mols_new\u001b[0m \u001b[0;34m=\u001b[0m \u001b[0mpop_mols_plenty\u001b[0m\u001b[0;34m[\u001b[0m\u001b[0;34m:\u001b[0m\u001b[0mtarget_number\u001b[0m\u001b[0;34m]\u001b[0m\u001b[0;34m\u001b[0m\u001b[0;34m\u001b[0m\u001b[0m\n\u001b[1;32m     24\u001b[0m             \u001b[0mprint\u001b[0m\u001b[0;34m(\u001b[0m\u001b[0;34mf\"{len(pop_loaded)} unique molecules in {pdb_file} to {target_number} molecules\"\u001b[0m\u001b[0;34m)\u001b[0m\u001b[0;34m\u001b[0m\u001b[0;34m\u001b[0m\u001b[0m\n\u001b[0;32m---> 25\u001b[0;31m             \u001b[0melements_each\u001b[0m \u001b[0;34m=\u001b[0m \u001b[0mcurrent_element\u001b[0m\u001b[0;34m(\u001b[0m\u001b[0mpop_mols_new\u001b[0m\u001b[0;34m)\u001b[0m\u001b[0;34m\u001b[0m\u001b[0;34m\u001b[0m\u001b[0m\n\u001b[0m\u001b[1;32m     26\u001b[0m             \u001b[0mnmr_each\u001b[0m \u001b[0;34m=\u001b[0m \u001b[0mcarbon_nmr\u001b[0m\u001b[0;34m(\u001b[0m\u001b[0mpop_mols_new\u001b[0m\u001b[0;34m,\u001b[0m \u001b[0;32mFalse\u001b[0m\u001b[0;34m)\u001b[0m\u001b[0;34m\u001b[0m\u001b[0;34m\u001b[0m\u001b[0m\n\u001b[1;32m     27\u001b[0m             \u001b[0macc_mols\u001b[0m \u001b[0;34m+=\u001b[0m \u001b[0mpop_mols_new\u001b[0m\u001b[0;34m\u001b[0m\u001b[0;34m\u001b[0m\u001b[0m\n",
      "\u001b[0;32m~/Dropbox/Research-ORNL/MolecularSolidBuilder_Org/MolecularSolidBuilder/molecularsolidbuilder/Examine_CNMR.py\u001b[0m in \u001b[0;36mcurrent_element\u001b[0;34m(mols)\u001b[0m\n\u001b[1;32m    693\u001b[0m         \u001b[0mchem_h\u001b[0m \u001b[0;34m=\u001b[0m \u001b[0;34m[\u001b[0m\u001b[0matom\u001b[0m\u001b[0;34m.\u001b[0m\u001b[0mGetTotalNumHs\u001b[0m\u001b[0;34m(\u001b[0m\u001b[0;34m)\u001b[0m \u001b[0;32mfor\u001b[0m \u001b[0matom\u001b[0m \u001b[0;32min\u001b[0m \u001b[0mm1\u001b[0m\u001b[0;34m.\u001b[0m\u001b[0mGetAtoms\u001b[0m\u001b[0;34m(\u001b[0m\u001b[0;34m)\u001b[0m\u001b[0;34m]\u001b[0m\u001b[0;34m\u001b[0m\u001b[0;34m\u001b[0m\u001b[0m\n\u001b[1;32m    694\u001b[0m         \u001b[0mchem_c\u001b[0m \u001b[0;34m=\u001b[0m \u001b[0;34m[\u001b[0m\u001b[0matom\u001b[0m \u001b[0;32mfor\u001b[0m \u001b[0matom\u001b[0m \u001b[0;32min\u001b[0m \u001b[0mm1\u001b[0m\u001b[0;34m.\u001b[0m\u001b[0mGetAtoms\u001b[0m\u001b[0;34m(\u001b[0m\u001b[0;34m)\u001b[0m \u001b[0;32mif\u001b[0m \u001b[0matom\u001b[0m\u001b[0;34m.\u001b[0m\u001b[0mGetSymbol\u001b[0m\u001b[0;34m(\u001b[0m\u001b[0;34m)\u001b[0m \u001b[0;34m==\u001b[0m \u001b[0;34m'C'\u001b[0m\u001b[0;34m]\u001b[0m\u001b[0;34m\u001b[0m\u001b[0;34m\u001b[0m\u001b[0m\n\u001b[0;32m--> 695\u001b[0;31m         \u001b[0mchem_n\u001b[0m \u001b[0;34m=\u001b[0m \u001b[0;34m[\u001b[0m\u001b[0matom\u001b[0m \u001b[0;32mfor\u001b[0m \u001b[0matom\u001b[0m \u001b[0;32min\u001b[0m \u001b[0mm1\u001b[0m\u001b[0;34m.\u001b[0m\u001b[0mGetAtoms\u001b[0m\u001b[0;34m(\u001b[0m\u001b[0;34m)\u001b[0m \u001b[0;32mif\u001b[0m \u001b[0matom\u001b[0m\u001b[0;34m.\u001b[0m\u001b[0mGetSymbol\u001b[0m\u001b[0;34m(\u001b[0m\u001b[0;34m)\u001b[0m \u001b[0;34m==\u001b[0m \u001b[0;34m'N'\u001b[0m\u001b[0;34m]\u001b[0m\u001b[0;34m\u001b[0m\u001b[0;34m\u001b[0m\u001b[0m\n\u001b[0m\u001b[1;32m    696\u001b[0m         \u001b[0mchem_o\u001b[0m \u001b[0;34m=\u001b[0m \u001b[0;34m[\u001b[0m\u001b[0matom\u001b[0m \u001b[0;32mfor\u001b[0m \u001b[0matom\u001b[0m \u001b[0;32min\u001b[0m \u001b[0mm1\u001b[0m\u001b[0;34m.\u001b[0m\u001b[0mGetAtoms\u001b[0m\u001b[0;34m(\u001b[0m\u001b[0;34m)\u001b[0m \u001b[0;32mif\u001b[0m \u001b[0matom\u001b[0m\u001b[0;34m.\u001b[0m\u001b[0mGetSymbol\u001b[0m\u001b[0;34m(\u001b[0m\u001b[0;34m)\u001b[0m \u001b[0;34m==\u001b[0m \u001b[0;34m'O'\u001b[0m\u001b[0;34m]\u001b[0m\u001b[0;34m\u001b[0m\u001b[0;34m\u001b[0m\u001b[0m\n\u001b[1;32m    697\u001b[0m         \u001b[0mchem_s\u001b[0m \u001b[0;34m=\u001b[0m \u001b[0;34m[\u001b[0m\u001b[0matom\u001b[0m \u001b[0;32mfor\u001b[0m \u001b[0matom\u001b[0m \u001b[0;32min\u001b[0m \u001b[0mm1\u001b[0m\u001b[0;34m.\u001b[0m\u001b[0mGetAtoms\u001b[0m\u001b[0;34m(\u001b[0m\u001b[0;34m)\u001b[0m \u001b[0;32mif\u001b[0m \u001b[0matom\u001b[0m\u001b[0;34m.\u001b[0m\u001b[0mGetSymbol\u001b[0m\u001b[0;34m(\u001b[0m\u001b[0;34m)\u001b[0m \u001b[0;34m==\u001b[0m \u001b[0;34m'S'\u001b[0m\u001b[0;34m]\u001b[0m\u001b[0;34m\u001b[0m\u001b[0;34m\u001b[0m\u001b[0m\n",
      "\u001b[0;31mKeyboardInterrupt\u001b[0m: "
     ]
    }
   ],
   "source": [
    "Stochastic_model_build.Expand_PAH_numbers(target_numbers=Monarch,\n",
    "                                          save_pdb_file='Stage1_step0_PAH_collect.pdb')"
   ]
  },
  {
   "cell_type": "code",
   "execution_count": null,
   "metadata": {},
   "outputs": [
    {
     "name": "stdout",
     "output_type": "stream",
     "text": [
      "target faB 31.746% and current faB 22.968%\n",
      "Add faB carbons to Stage1_step0_PAH_collect.pdb\n",
      "probability to modify: 5\n",
      "iteration 1: target faB 31.746% and current faB 23.341%\n",
      "probability to modify: 5\n",
      "iteration 2: target faB 31.746% and current faB 23.979%\n",
      "probability to modify: 5\n",
      "iteration 3: target faB 31.746% and current faB 24.918%\n",
      "probability to modify: 6\n",
      "iteration 4: target faB 31.746% and current faB 25.702%\n",
      "probability to modify: 7\n",
      "iteration 5: target faB 31.746% and current faB 26.633%\n",
      "probability to modify: 8\n",
      "iteration 6: target faB 31.746% and current faB 27.335%\n",
      "probability to modify: 9\n",
      "iteration 7: target faB 31.746% and current faB 27.942%\n",
      "probability to modify: 10\n",
      "iteration 8: target faB 31.746% and current faB 28.590%\n",
      "probability to modify: 12\n",
      "iteration 9: target faB 31.746% and current faB 29.167%\n",
      "probability to modify: 13\n",
      "iteration 10: target faB 31.746% and current faB 29.604%\n",
      "probability to modify: 15\n",
      "iteration 11: target faB 31.746% and current faB 30.019%\n",
      "probability to modify: 18\n",
      "iteration 12: target faB 31.746% and current faB 30.374%\n",
      "probability to modify: 21\n",
      "iteration 13: target faB 31.746% and current faB 30.689%\n",
      "probability to modify: 24\n",
      "iteration 14: target faB 31.746% and current faB 30.996%\n",
      "probability to modify: 28\n",
      "iteration 15: target faB 31.746% and current faB 31.165%\n",
      "probability to modify: 31\n",
      "iteration 16: target faB 31.746% and current faB 31.321%\n",
      "probability to modify: 35\n",
      "iteration 17: target faB 31.746% and current faB 31.516%\n",
      "probability to modify: 40\n",
      "iteration 18: target faB 31.746% and current faB 31.739%\n",
      "probability to modify: 49\n",
      "iteration 19: target faB 31.746% and current faB 31.809%\n",
      "Completed Adding faB carbons with 31.809%/31.746%\n",
      "Elemental composition (atomic%):{'C': 58.81253987059145, 'H': 39.30556821288617, 'N': 0.0, 'O': 1.881891916522373, 'S': 0.0}\n",
      "13C-NMR data (ratio):{'fa': 0.9167893391183078, 'fapr': 0.9167893391183078, 'faN': 0.3541489114434028, 'faH': 0.5626404276749051, 'faP': 0.0030990935151468195, 'faS': 0.059425118152940264, 'faB': 0.29162469977531574, 'faC': 0.0, 'fal': 0.0832106608816921, 'fal*': 0.0021693654606027737, 'falH': 0.08104129542108933, 'falO': 0.0013945920818160687, 'num_C': 12907}\n",
      "==================================================\n",
      "Write as a single PDB file to Stage1_step1_faB.pdb\n"
     ]
    }
   ],
   "source": [
    "Stochastic_model_build.Add_faB(target_cnmr=target_cnmr,\n",
    "                               target_elements=target_elements,\n",
    "                               load_pdb_file='Stage1_step0_PAH_collect.pdb',\n",
    "                               save_pdb_file='Stage1_step1_faB.pdb')"
   ]
  },
  {
   "cell_type": "code",
   "execution_count": null,
   "metadata": {},
   "outputs": [
    {
     "name": "stdout",
     "output_type": "stream",
     "text": [
      "target falH 19.403% and current falH 8.840%\n",
      "Add falH carbons to Stage1_step1_faB.pdb\n",
      "iteration 1: target falH 19.403% and current falH 8.840%\n",
      "iteration 2: target falH 19.403% and current falH 9.474%\n",
      "iteration 3: target falH 19.403% and current falH 10.369%\n",
      "iteration 4: target falH 19.403% and current falH 11.950%\n",
      "iteration 5: target falH 19.403% and current falH 13.386%\n",
      "iteration 6: target falH 19.403% and current falH 14.865%\n",
      "iteration 7: target falH 19.403% and current falH 15.989%\n",
      "iteration 8: target falH 19.403% and current falH 16.885%\n",
      "iteration 9: target falH 19.403% and current falH 17.612%\n",
      "iteration 10: target falH 19.403% and current falH 18.144%\n",
      "iteration 11: target falH 19.403% and current falH 18.879%\n",
      "iteration 12: target falH 19.403% and current falH 19.116%\n",
      "iteration 13: target falH 19.403% and current falH 19.395%\n",
      "iteration 14: target falH 19.403% and current falH 19.741%\n",
      "Completed Adding falH carbons with 19.741%/19.403%\n",
      "Elemental composition (atomic%):{'C': 56.7654409139593, 'H': 41.59625530564481, 'N': 0.0, 'O': 1.6383037803958904, 'S': 0.0}\n",
      "13C-NMR data (ratio):{'fa': 0.8269042627533194, 'fapr': 0.8269042627533194, 'faN': 0.37763801537386443, 'faH': 0.4492662473794549, 'faP': 0.002795248078266946, 'faS': 0.11180992313067785, 'faB': 0.2630328441649196, 'faC': 0.0, 'fal': 0.17309573724668065, 'fal*': 0.009853249475890986, 'falH': 0.16324248777078965, 'falO': 0.0012578616352201257, 'num_C': 14310}\n",
      "==================================================\n",
      "Write as a single PDB file to Stage1_step2_falH.pdb\n"
     ]
    }
   ],
   "source": [
    "Stochastic_model_build.Add_falH(target_cnmr=target_cnmr,\n",
    "                               target_elements=target_elements,\n",
    "                               load_pdb_file='Stage1_step1_faB.pdb',\n",
    "                               save_pdb_file='Stage1_step2_falH.pdb',\n",
    "                               addtotarget=-0.06)"
   ]
  },
  {
   "cell_type": "code",
   "execution_count": null,
   "metadata": {},
   "outputs": [
    {
     "name": "stdout",
     "output_type": "stream",
     "text": [
      "target faS 23.881% and current faS 13.522%\n",
      "Add funcs for faS carbons to Stage1_step2_falH.pdb\n",
      "iteration 1: target faS 23.881% and current faS 17.841%\n",
      "iteration 2: target faS 23.881% and current faS 20.615%\n",
      "iteration 3: target faS 23.881% and current faS 22.516%\n",
      "iteration 4: target faS 23.881% and current faS 23.393%\n",
      "iteration 5: target faS 23.881% and current faS 24.050%\n",
      "Completed Adding faS carbons with 24.050%/23.881%\n",
      "Elemental composition (atomic%):{'C': 51.832018038331455, 'H': 43.849430038832516, 'N': 0.0, 'O': 4.3185519228360265, 'S': 0.0}\n",
      "13C-NMR data (ratio):{'fa': 0.7441242221013836, 'fapr': 0.714941695365839, 'faN': 0.40879705153767143, 'faH': 0.3061446438281675, 'faP': 0.002416772400459187, 'faS': 0.17896199625400278, 'faB': 0.22741828288320948, 'faC': 0.02918252673554468, 'fal': 0.2558757778986164, 'fal*': 0.061627696211709264, 'falH': 0.19424808168690713, 'falO': 0.001087547580206634, 'num_C': 16551}\n",
      "==================================================\n",
      "Write as a single PDB file to Stage1_step3_faS.pdb\n"
     ]
    }
   ],
   "source": [
    "Stochastic_model_build.Add_faS(target_cnmr=target_cnmr,\n",
    "                               target_elements=target_elements,\n",
    "                               load_pdb_file='Stage1_step2_falH.pdb',\n",
    "                               save_pdb_file='Stage1_step3_faS.pdb',\n",
    "                               addtotarget=0.0)"
   ]
  },
  {
   "cell_type": "code",
   "execution_count": null,
   "metadata": {},
   "outputs": [
    {
     "name": "stdout",
     "output_type": "stream",
     "text": [
      "target faP 5.970% and current faP 0.325%\n",
      "Add faP carbons to Stage1_step3_faS.pdb\n",
      "iteration 1: target faP 5.970% and current faP 1.340%\n",
      "iteration 2: target faP 5.970% and current faP 2.200%\n",
      "iteration 3: target faP 5.970% and current faP 2.793%\n",
      "iteration 4: target faP 5.970% and current faP 3.467%\n",
      "iteration 5: target faP 5.970% and current faP 3.995%\n",
      "iteration 6: target faP 5.970% and current faP 4.385%\n",
      "iteration 7: target faP 5.970% and current faP 4.750%\n",
      "iteration 8: target faP 5.970% and current faP 5.148%\n",
      "iteration 9: target faP 5.970% and current faP 5.416%\n",
      "iteration 10: target faP 5.970% and current faP 5.716%\n",
      "iteration 11: target faP 5.970% and current faP 5.862%\n",
      "iteration 12: target faP 5.970% and current faP 6.000%\n",
      "Completed Adding faP carbons with 6.000%/5.970%\n",
      "Elemental composition (atomic%):{'C': 50.721706352854646, 'H': 42.91011614722197, 'N': 0.0, 'O': 6.3681774999233856, 'S': 0.0}\n",
      "13C-NMR data (ratio):{'fa': 0.7441242221013836, 'fapr': 0.714941695365839, 'faN': 0.45103014923569573, 'faH': 0.26391154613014317, 'faP': 0.04464987009848347, 'faS': 0.17896199625400278, 'faB': 0.22741828288320948, 'faC': 0.02918252673554468, 'fal': 0.2558757778986164, 'fal*': 0.061627696211709264, 'falH': 0.19424808168690713, 'falO': 0.001087547580206634, 'num_C': 16551}\n",
      "==================================================\n",
      "Write as a single PDB file to Stage1_step4_faP.pdb\n"
     ]
    }
   ],
   "source": [
    "Stochastic_model_build.Add_faP(target_cnmr=target_cnmr,\n",
    "                               target_elements=target_elements,\n",
    "                               load_pdb_file='Stage1_step3_faS.pdb',\n",
    "                               save_pdb_file='Stage1_step4_faP.pdb')"
   ]
  },
  {
   "cell_type": "code",
   "execution_count": null,
   "metadata": {},
   "outputs": [
    {
     "name": "stdout",
     "output_type": "stream",
     "text": [
      "target fal 37.000% and current fal 28.506%\n",
      "Add funcs for fal carbons to Stage1_step4_faP.pdb\n",
      "iteration 1: target fal 37.000% and current fal 29.591%\n",
      "iteration 2: target fal 37.000% and current fal 30.578%\n",
      "iteration 3: target fal 37.000% and current fal 31.462%\n",
      "iteration 4: target fal 37.000% and current fal 32.185%\n",
      "iteration 5: target fal 37.000% and current fal 32.832%\n",
      "iteration 6: target fal 37.000% and current fal 33.354%\n",
      "iteration 7: target fal 37.000% and current fal 33.783%\n",
      "iteration 8: target fal 37.000% and current fal 34.279%\n",
      "iteration 9: target fal 37.000% and current fal 34.585%\n",
      "iteration 10: target fal 37.000% and current fal 34.948%\n",
      "iteration 11: target fal 37.000% and current fal 35.226%\n",
      "iteration 12: target fal 37.000% and current fal 35.515%\n",
      "iteration 13: target fal 37.000% and current fal 35.708%\n",
      "iteration 14: target fal 37.000% and current fal 35.930%\n",
      "iteration 15: target fal 37.000% and current fal 36.097%\n",
      "iteration 16: target fal 37.000% and current fal 36.234%\n",
      "iteration 17: target fal 37.000% and current fal 36.399%\n",
      "iteration 18: target fal 37.000% and current fal 36.542%\n",
      "iteration 19: target fal 37.000% and current fal 36.651%\n",
      "iteration 20: target fal 37.000% and current fal 36.766%\n",
      "iteration 21: target fal 37.000% and current fal 36.847%\n",
      "iteration 22: target fal 37.000% and current fal 36.924%\n",
      "iteration 23: target fal 37.000% and current fal 37.035%\n",
      "Completed Adding fal carbons with 37.035%/37.000%\n",
      "Elemental composition (atomic%):{'C': 47.750082577432224, 'H': 46.97004344843357, 'N': 0.0, 'O': 5.279873974134207, 'S': 0.0}\n",
      "13C-NMR data (ratio):{'fa': 0.6553503964242005, 'fapr': 0.6296493375192891, 'faN': 0.39722237003139466, 'faH': 0.23242696748789443, 'faP': 0.039323152237535255, 'faS': 0.1576118767626244, 'faB': 0.20028734103123502, 'faC': 0.0257010589049114, 'fal': 0.3446496035757995, 'fal*': 0.169318363220348, 'falH': 0.1753312403554515, 'falO': 0.0009578034374501145, 'num_C': 18793}\n",
      "==================================================\n",
      "Write as a single PDB file to Stage1_step5_falast_withfal.pdb\n"
     ]
    }
   ],
   "source": [
    "Stochastic_model_build.Add_fal_aliphatic_ring(target_cnmr=target_cnmr,\n",
    "                               target_elements=target_elements,\n",
    "                               load_pdb_file='Stage1_step4_faP.pdb',\n",
    "                               save_pdb_file='Stage1_step5_falast_withfal.pdb')"
   ]
  },
  {
   "cell_type": "code",
   "execution_count": null,
   "metadata": {},
   "outputs": [
    {
     "name": "stdout",
     "output_type": "stream",
     "text": [
      "target faC1 4.000% and current faC1 2.570%\n",
      "Add faC1 carbons to Stage1_step5_falast_withfal.pdb\n",
      "iteration 1: target faC1 4.000% and current faC1 2.804%\n",
      "iteration 2: target faC1 4.000% and current faC1 2.953%\n",
      "iteration 3: target faC1 4.000% and current faC1 3.108%\n",
      "iteration 4: target faC1 4.000% and current faC1 3.257%\n",
      "iteration 5: target faC1 4.000% and current faC1 3.336%\n",
      "iteration 6: target faC1 4.000% and current faC1 3.480%\n",
      "iteration 7: target faC1 4.000% and current faC1 3.634%\n",
      "iteration 8: target faC1 4.000% and current faC1 3.757%\n",
      "iteration 9: target faC1 4.000% and current faC1 3.900%\n",
      "iteration 10: target faC1 4.000% and current faC1 3.964%\n",
      "iteration 11: target faC1 4.000% and current faC1 4.055%\n",
      "Completed Adding faS carbons with 4.000%/4.055%\n",
      "Elemental composition (atomic%):{'C': 48.0909974921951, 'H': 45.87747581759558, 'N': 0.0, 'O': 6.031526690209325, 'S': 0.0}\n",
      "13C-NMR data (ratio):{'fa': 0.6701963497046772, 'fapr': 0.6296493375192891, 'faN': 0.39722237003139466, 'faH': 0.23242696748789443, 'faP': 0.039323152237535255, 'faS': 0.1576118767626244, 'faB': 0.20028734103123502, 'faC': 0.04054701218538818, 'fal': 0.3298036502953227, 'fal*': 0.15447240993987124, 'falH': 0.1753312403554515, 'falO': 0.0009578034374501145, 'num_C': 18793}\n",
      "==================================================\n",
      "Write as a single PDB file to Stage1_step6_faC1.pdb\n"
     ]
    }
   ],
   "source": [
    "Stochastic_model_build.Add_faC1(target_cnmr=target_cnmr,\n",
    "                               target_elements=target_elements,\n",
    "                               load_pdb_file='Stage1_step5_falast_withfal.pdb',\n",
    "                               save_pdb_file='Stage1_step6_faC1.pdb',addtotarget=0.0)"
   ]
  },
  {
   "cell_type": "code",
   "execution_count": null,
   "metadata": {},
   "outputs": [],
   "source": [
    "Stochastic_model_build.Add_falO(target_cnmr=target_cnmr,\n",
    "                               target_elements=target_elements,\n",
    "                               load_pdb_file='Stage1_step6_faC1.pdb',\n",
    "                               save_pdb_file='Stage1_step7_falO.pdb',addtotarget=-0.02)"
   ]
  },
  {
   "cell_type": "code",
   "execution_count": null,
   "metadata": {},
   "outputs": [
    {
     "name": "stdout",
     "output_type": "stream",
     "text": [
      "target falO 5.500% and current falO 4.012%\n",
      "target O/C 20.597% and current O/C 16.458%\n",
      "Add falO carbons to Stage1_step7_falO.pdb\n",
      "iteration 1: target falO 5.500% and current falO 4.150%\n",
      "iteration 2: target falO 5.500% and current falO 4.241%\n",
      "iteration 3: target falO 5.500% and current falO 4.310%\n",
      "iteration 4: target falO 5.500% and current falO 4.496%\n",
      "iteration 5: target falO 5.500% and current falO 4.603%\n",
      "iteration 6: target falO 5.500% and current falO 4.693%\n",
      "iteration 7: target falO 5.500% and current falO 4.746%\n",
      "iteration 8: target falO 5.500% and current falO 4.842%\n",
      "iteration 9: target falO 5.500% and current falO 4.927%\n",
      "iteration 10: target falO 5.500% and current falO 5.018%\n",
      "iteration 11: target falO 5.500% and current falO 5.114%\n",
      "iteration 12: target falO 5.500% and current falO 5.177%\n",
      "iteration 13: target falO 5.500% and current falO 5.263%\n",
      "iteration 14: target falO 5.500% and current falO 5.310%\n",
      "iteration 15: target falO 5.500% and current falO 5.374%\n",
      "iteration 16: target falO 5.500% and current falO 5.449%\n",
      "iteration 17: target falO 5.500% and current falO 5.491%\n",
      "iteration 18: target falO 5.500% and current falO 5.545%\n",
      "Completed Adding faS carbons with 5.500%/5.545%\n",
      "Elemental composition (atomic%):{'C': 46.862999351653286, 'H': 44.70599970076305, 'N': 0.0, 'O': 8.431000947583662, 'S': 0.0}\n",
      "13C-NMR data (ratio):{'fa': 0.6701963497046772, 'fapr': 0.6296493375192891, 'faN': 0.39722237003139466, 'faH': 0.23242696748789443, 'faP': 0.039323152237535255, 'faS': 0.1576118767626244, 'faB': 0.20028734103123502, 'faC': 0.04054701218538818, 'fal': 0.3298036502953227, 'fal*': 0.15447240993987124, 'falH': 0.1753312403554515, 'falO': 0.05544617676794551, 'num_C': 18793}\n",
      "==================================================\n",
      "Write as a single PDB file to Stage1_step8_falO2.pdb\n"
     ]
    }
   ],
   "source": [
    "Stochastic_model_build.Add_falO(target_cnmr=target_cnmr,\n",
    "                               target_elements=target_elements,\n",
    "                               load_pdb_file='Stage1_step7_falO.pdb',\n",
    "                               save_pdb_file='Stage1_step8_falO2.pdb',addtotarget=-0.005)"
   ]
  },
  {
   "cell_type": "code",
   "execution_count": 1,
   "metadata": {},
   "outputs": [
    {
     "name": "stdout",
     "output_type": "stream",
     "text": [
      "Total n of atoms:40102, Target N atoms:338\n",
      "Target Pyrrolic N atoms:209, Target Pyridine N atoms:87, Target Quaternary N atoms:40\n",
      "Available furan sites:375\n",
      "Add N atoms to Stage1_step8_falO2.pdb\n",
      "iteration 1:Target Pyrrolic N atoms:209,Current Pyrrolic N atoms:209\n",
      "{'C': 46.62002927240704, 'H': 44.99268189824117, 'N': 0.5184689042693061, 'O': 7.868819925082484, 'S': 0.0}\n",
      "iteration 1:Target Pyridine N atoms:87,Current Pyridine N atoms:87\n",
      "{'C': 46.50457438345266, 'H': 44.87370723945903, 'N': 0.7358790771678599, 'O': 7.885839299920446, 'S': 0.0}\n",
      "iteration 1:Target Quaternary N atoms:40,Current Quaternary N atoms:40\n",
      "Elemental composition (atomic%):{'C': 46.359030399364194, 'H': 44.92847208424399, 'N': 0.8344923504867872, 'O': 7.8780051659050265, 'S': 0.0}\n",
      "13C-NMR data (ratio):{'fa': 0.660612879031394, 'fapr': 0.6197899924997321, 'faN': 0.39413907639558554, 'faH': 0.2256509161041466, 'faP': 0.03798349941069324, 'faS': 0.1567555984142291, 'faB': 0.19939997857066324, 'faC': 0.04082288653166184, 'fal': 0.339387120968606, 'fal*': 0.15879138540662166, 'falH': 0.18059573556198436, 'falO': 0.057537769206043074, 'num_C': 18666}\n",
      "==================================================\n",
      "Write as a single PDB file to Stage2_step1_Natoms.pdb\n"
     ]
    }
   ],
   "source": [
    "import os, sys, glob, subprocess, math, random\n",
    "import numpy as np\n",
    "import pandas as pd\n",
    "from molecularsolidbuilder.workflow import Stochastic_model_build\n",
    "\n",
    "#Load experimental 13C-NMR and Elemental composition data\n",
    "system_name = 'Monarch'\n",
    "target_cnmr = pd.read_csv('../../Exp_data/Coal_NMR.csv',index_col=0)[system_name]\n",
    "target_elements = pd.read_csv('../../Exp_data/Coal_Element.csv',index_col=0)[system_name]\n",
    "\n",
    "Stochastic_model_build.Add_Heteratom_N(target_cnmr=target_cnmr,\n",
    "                                       target_elements=target_elements,\n",
    "                                       load_pdb_file='Stage1_step8_falO2.pdb',\n",
    "                                       save_pdb_file='Stage2_step1_Natoms.pdb')\n"
   ]
  },
  {
   "cell_type": "code",
   "execution_count": 1,
   "metadata": {},
   "outputs": [
    {
     "name": "stdout",
     "output_type": "stream",
     "text": [
      "Total n of atoms:40264, Target S atoms:66\n",
      "Target Thiophene S atoms:27, Target Aromatic S atoms:17, Target Aliphatic S atoms:21\n",
      "Available furan sites:166\n",
      "Add S atoms to Stage2_step1_Natoms.pdb\n",
      "iteration 1:Target Thiophene S atoms:27,Current Thiophene S atoms:27\n",
      "{'C': 46.359030399364194, 'H': 44.92847208424399, 'N': 0.8344923504867872, 'O': 7.810947744883767, 'S': 0.06705742102125968}\n",
      "iteration 1:Target Aromatic S atoms:17,Current Aromatic S atoms:17\n",
      "{'C': 46.359030399364194, 'H': 44.92847208424399, 'N': 0.8344923504867872, 'O': 7.768726405722234, 'S': 0.10927876018279356}\n",
      "iteration 1:Target Aliphatic N atoms:21,Current Aliphatic S atoms:21\n",
      "Elemental composition (atomic%):{'C': 46.28273550949485, 'H': 44.9571800918456, 'N': 0.8861859252823632, 'O': 7.764676678664515, 'S': 0.10922179471267221}\n",
      "13C-NMR data (ratio):{'fa': 0.6551354250469295, 'fapr': 0.6142665593993027, 'faN': 0.39050683829444893, 'faH': 0.22375972110485384, 'faP': 0.03657817109144543, 'faS': 0.15430410297666936, 'faB': 0.19962456422633415, 'faC': 0.040868865647626706, 'fal': 0.34486457495307055, 'fal*': 0.16154465004022525, 'falH': 0.18331992491284527, 'falO': 0.059050683829444894, 'num_C': 18645}\n",
      "==================================================\n",
      "Write as a single PDB file to Stage2_step2_Satoms.pdb\n",
      "Write as individual PDB files to Step2_complete_mols\n"
     ]
    }
   ],
   "source": [
    "import os, sys, glob, subprocess, math, random\n",
    "import numpy as np\n",
    "import pandas as pd\n",
    "from molecularsolidbuilder.workflow import Stochastic_model_build\n",
    "\n",
    "#Load experimental 13C-NMR and Elemental composition data\n",
    "system_name = 'Monarch'\n",
    "target_cnmr = pd.read_csv('../../Exp_data/Coal_NMR.csv',index_col=0)[system_name]\n",
    "target_elements = pd.read_csv('../../Exp_data/Coal_Element.csv',index_col=0)[system_name]\n",
    "\n",
    "Stochastic_model_build.Add_Heteratom_S(target_cnmr=target_cnmr,\n",
    "                                       target_elements=target_elements,\n",
    "                                       load_pdb_file='Stage2_step1_Natoms.pdb',\n",
    "                                       save_pdb_file='Stage2_step2_Satoms.pdb',\n",
    "                                       save_dir='Step2_complete_mols')"
   ]
  },
  {
   "cell_type": "code",
   "execution_count": null,
   "metadata": {},
   "outputs": [],
   "source": []
  }
 ],
 "metadata": {
  "kernelspec": {
   "display_name": "base",
   "language": "python",
   "name": "python3"
  },
  "language_info": {
   "codemirror_mode": {
    "name": "ipython",
    "version": 3
   },
   "file_extension": ".py",
   "mimetype": "text/x-python",
   "name": "python",
   "nbconvert_exporter": "python",
   "pygments_lexer": "ipython3",
   "version": "3.10.8"
  }
 },
 "nbformat": 4,
 "nbformat_minor": 2
}

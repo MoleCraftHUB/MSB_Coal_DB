{
 "cells": [
  {
   "cell_type": "code",
   "execution_count": null,
   "metadata": {},
   "outputs": [],
   "source": [
    "import os, sys, glob, subprocess, math, random\n",
    "import numpy as np\n",
    "import pandas as pd\n",
    "from molecularsolidbuilder.workflow import Stochastic_model_build\n",
    "\n",
    "#Define TEM-lattice data with file names\n",
    "Monarch = {'pop_pdb/pop1_o.pdb':310, # > 3 Ang\n",
    "           'pop_pdb/pop2_o.pdb':430, # 3 ~ 4.5 Ang\n",
    "           'pop_pdb/pop3_o.pdb':90,  # 4.5 ~ 6.0 Ang\n",
    "           'pop_pdb/pop4_o.pdb':80,  # 6.0 ~ 7.5 Ang\n",
    "           'pop_pdb/pop5_o.pdb':70,  # 7.5 ~ 11.5 Ang\n",
    "           'pop_pdb/pop6_o.pdb':20,  # 11.5 ~ 14.5 Ang\n",
    "           }\n",
    "\n",
    "#Load experimental 13C-NMR and Elemental composition data\n",
    "system_name = 'Monarch'\n",
    "target_cnmr = pd.read_csv('../../Exp_data/Coal_NMR.csv',index_col=0)[system_name]\n",
    "target_elements = pd.read_csv('../../Exp_data/Coal_Element.csv',index_col=0)[system_name]"
   ]
  },
  {
   "cell_type": "code",
   "execution_count": null,
   "metadata": {},
   "outputs": [],
   "source": [
    "Stochastic_model_build.Expand_PAH_numbers(target_numbers=Monarch,\n",
    "                                          save_pdb_file='Stage1_step0_PAH_collect.pdb')"
   ]
  },
  {
   "cell_type": "code",
   "execution_count": null,
   "metadata": {},
   "outputs": [],
   "source": [
    "Stochastic_model_build.Add_faB(target_cnmr=target_cnmr,\n",
    "                               target_elements=target_elements,\n",
    "                               load_pdb_file='Stage1_step0_PAH_collect.pdb',\n",
    "                               save_pdb_file='Stage1_step1_faB.pdb')"
   ]
  },
  {
   "cell_type": "code",
   "execution_count": null,
   "metadata": {},
   "outputs": [],
   "source": [
    "Stochastic_model_build.Add_falH(target_cnmr=target_cnmr,\n",
    "                               target_elements=target_elements,\n",
    "                               load_pdb_file='Stage1_step1_faB.pdb',\n",
    "                               save_pdb_file='Stage1_step2_falH.pdb',\n",
    "                               addtotarget=-0.06)"
   ]
  },
  {
   "cell_type": "code",
   "execution_count": null,
   "metadata": {},
   "outputs": [],
   "source": [
    "Stochastic_model_build.Add_faS(target_cnmr=target_cnmr,\n",
    "                               target_elements=target_elements,\n",
    "                               load_pdb_file='Stage1_step2_falH.pdb',\n",
    "                               save_pdb_file='Stage1_step3_faS.pdb',\n",
    "                               addtotarget=0.0)"
   ]
  },
  {
   "cell_type": "code",
   "execution_count": null,
   "metadata": {},
   "outputs": [],
   "source": [
    "Stochastic_model_build.Add_faP(target_cnmr=target_cnmr,\n",
    "                               target_elements=target_elements,\n",
    "                               load_pdb_file='Stage1_step3_faS.pdb',\n",
    "                               save_pdb_file='Stage1_step4_faP.pdb')"
   ]
  },
  {
   "cell_type": "code",
   "execution_count": null,
   "metadata": {},
   "outputs": [],
   "source": [
    "Stochastic_model_build.Add_fal_aliphatic_ring(target_cnmr=target_cnmr,\n",
    "                               target_elements=target_elements,\n",
    "                               load_pdb_file='Stage1_step4_faP.pdb',\n",
    "                               save_pdb_file='Stage1_step5_falast_withfal.pdb')"
   ]
  },
  {
   "cell_type": "code",
   "execution_count": null,
   "metadata": {},
   "outputs": [],
   "source": [
    "Stochastic_model_build.Add_faC1(target_cnmr=target_cnmr,\n",
    "                               target_elements=target_elements,\n",
    "                               load_pdb_file='Stage1_step5_falast_withfal.pdb',\n",
    "                               save_pdb_file='Stage1_step6_faC1.pdb',addtotarget=0.0)"
   ]
  },
  {
   "cell_type": "code",
   "execution_count": null,
   "metadata": {},
   "outputs": [],
   "source": [
    "Stochastic_model_build.Add_falO(target_cnmr=target_cnmr,\n",
    "                               target_elements=target_elements,\n",
    "                               load_pdb_file='Stage1_step6_faC1.pdb',\n",
    "                               save_pdb_file='Stage1_step7_falO.pdb',addtotarget=-0.02)"
   ]
  },
  {
   "cell_type": "code",
   "execution_count": null,
   "metadata": {},
   "outputs": [],
   "source": [
    "Stochastic_model_build.Add_falO(target_cnmr=target_cnmr,\n",
    "                               target_elements=target_elements,\n",
    "                               load_pdb_file='Stage1_step7_falO.pdb',\n",
    "                               save_pdb_file='Stage1_step8_falO2.pdb',addtotarget=-0.005)"
   ]
  },
  {
   "cell_type": "code",
   "execution_count": null,
   "metadata": {},
   "outputs": [],
   "source": [
    "import os, sys, glob, subprocess, math, random\n",
    "import numpy as np\n",
    "import pandas as pd\n",
    "from molecularsolidbuilder.workflow import Stochastic_model_build\n",
    "\n",
    "#Load experimental 13C-NMR and Elemental composition data\n",
    "system_name = 'Monarch'\n",
    "target_cnmr = pd.read_csv('../../Exp_data/Coal_NMR.csv',index_col=0)[system_name]\n",
    "target_elements = pd.read_csv('../../Exp_data/Coal_Element.csv',index_col=0)[system_name]\n",
    "\n",
    "Stochastic_model_build.Add_Heteratom_N(target_cnmr=target_cnmr,\n",
    "                                       target_elements=target_elements,\n",
    "                                       load_pdb_file='Stage1_step8_falO2.pdb',\n",
    "                                       save_pdb_file='Stage2_step1_Natoms.pdb')\n"
   ]
  },
  {
   "cell_type": "code",
   "execution_count": null,
   "metadata": {},
   "outputs": [],
   "source": [
    "import os, sys, glob, subprocess, math, random\n",
    "import numpy as np\n",
    "import pandas as pd\n",
    "from molecularsolidbuilder.workflow import Stochastic_model_build\n",
    "\n",
    "#Load experimental 13C-NMR and Elemental composition data\n",
    "system_name = 'Monarch'\n",
    "target_cnmr = pd.read_csv('../../Exp_data/Coal_NMR.csv',index_col=0)[system_name]\n",
    "target_elements = pd.read_csv('../../Exp_data/Coal_Element.csv',index_col=0)[system_name]\n",
    "\n",
    "Stochastic_model_build.Add_Heteratom_S(target_cnmr=target_cnmr,\n",
    "                                       target_elements=target_elements,\n",
    "                                       load_pdb_file='Stage2_step1_Natoms.pdb',\n",
    "                                       save_pdb_file='Stage2_step2_Satoms.pdb',\n",
    "                                       save_dir='Stage2_complete_mols')"
   ]
  },
  {
   "cell_type": "code",
   "execution_count": null,
   "metadata": {},
   "outputs": [],
   "source": [
    "import os, sys, glob, subprocess, math, random\n",
    "import numpy as np\n",
    "import pandas as pd\n",
    "from molecularsolidbuilder.workflow import Stochastic_model_build\n",
    "\n",
    "#Load experimental 13C-NMR and Elemental composition data\n",
    "system_name = 'Monarch'\n",
    "target_cnmr = pd.read_csv('../../Exp_data/Coal_NMR.csv',index_col=0)[system_name]\n",
    "target_elements = pd.read_csv('../../Exp_data/Coal_Element.csv',index_col=0)[system_name]\n",
    "target_mw_dist = pd.read_csv('../../Exp_data/Coal_Mass_Distribution.csv',index_col=0)[['MassRange',system_name]]\n",
    "\n",
    "Stochastic_model_build.Mass_weight_Distribute(target_mass_range=target_mw_dist['MassRange'],\n",
    "                                              target_mass_dist=target_mw_dist[system_name],\n",
    "                                              load_dir='Stage2_complete_mols',\n",
    "                                              save_dir='Stage3_mass_distribute',restart=False)"
   ]
  },
  {
   "cell_type": "code",
   "execution_count": null,
   "metadata": {},
   "outputs": [],
   "source": [
    "Stochastic_model_build.Mass_weight_Distribute(target_mass_range=target_mw_dist['MassRange'],\n",
    "                                              target_mass_dist=target_mw_dist[system_name],\n",
    "                                              load_dir='Stage2_complete_mols',\n",
    "                                              save_dir='Stage3_mass_distribute',restart=True)"
   ]
  },
  {
   "cell_type": "code",
   "execution_count": null,
   "metadata": {},
   "outputs": [],
   "source": [
    "import os, sys, glob, subprocess, math, random\n",
    "import numpy as np\n",
    "import pandas as pd\n",
    "from molecularsolidbuilder.workflow import Stochastic_model_build\n",
    "\n",
    "#Load experimental 13C-NMR and Elemental composition data\n",
    "system_name = 'Monarch'\n",
    "target_cnmr = pd.read_csv('../../Exp_data/Coal_NMR.csv',index_col=0)[system_name]\n",
    "target_elements = pd.read_csv('../../Exp_data/Coal_Element.csv',index_col=0)[system_name]\n",
    "target_mw_dist = pd.read_csv('../../Exp_data/Coal_Mass_Distribution.csv',index_col=0)[['MassRange',system_name]]\n",
    "\n",
    "Stochastic_model_build.Combine_Mols(load_dir='Stage3_mass_distribute',\n",
    "                                    save_dir='Stage3_mass_distribute_combine')"
   ]
  },
  {
   "cell_type": "markdown",
   "metadata": {},
   "source": []
  }
 ],
 "metadata": {
  "kernelspec": {
   "display_name": "base",
   "language": "python",
   "name": "python3"
  },
  "language_info": {
   "codemirror_mode": {
    "name": "ipython",
    "version": 3
   },
   "file_extension": ".py",
   "mimetype": "text/x-python",
   "name": "python",
   "nbconvert_exporter": "python",
   "pygments_lexer": "ipython3",
   "version": "3.10.8"
  }
 },
 "nbformat": 4,
 "nbformat_minor": 2
}
